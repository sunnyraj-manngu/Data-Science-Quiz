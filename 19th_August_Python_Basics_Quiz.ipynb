{
  "nbformat": 4,
  "nbformat_minor": 0,
  "metadata": {
    "colab": {
      "provenance": []
    },
    "kernelspec": {
      "name": "python3",
      "display_name": "Python 3"
    },
    "language_info": {
      "name": "python"
    }
  },
  "cells": [
    {
      "cell_type": "markdown",
      "source": [
        "1. What will be the value of the variable `x` after the following code is executed in Python?\n",
        "\n",
        "x = 10\n",
        "\n",
        "x = x + 5"
      ],
      "metadata": {
        "id": "I3yXNWUY3ms-"
      }
    },
    {
      "cell_type": "code",
      "execution_count": 2,
      "metadata": {
        "id": "4jU_FLAC3Zsc"
      },
      "outputs": [],
      "source": [
        "x = 10"
      ]
    },
    {
      "cell_type": "code",
      "source": [
        "x = x+5"
      ],
      "metadata": {
        "id": "_PwJBQ1I3hTf"
      },
      "execution_count": 3,
      "outputs": []
    },
    {
      "cell_type": "code",
      "source": [
        "x"
      ],
      "metadata": {
        "colab": {
          "base_uri": "https://localhost:8080/"
        },
        "id": "HM7J8keQ3vL8",
        "outputId": "6b79d5fe-90fc-418f-f116-b5e997a18dec"
      },
      "execution_count": 4,
      "outputs": [
        {
          "output_type": "execute_result",
          "data": {
            "text/plain": [
              "15"
            ]
          },
          "metadata": {},
          "execution_count": 4
        }
      ]
    },
    {
      "cell_type": "markdown",
      "source": [
        "4. Which of the following is the correct way to concatenate two strings in Python?"
      ],
      "metadata": {
        "id": "wKsiliMs35Q3"
      }
    },
    {
      "cell_type": "code",
      "source": [
        "string1 = 'Sunny'\n",
        "string2 = 'raj'"
      ],
      "metadata": {
        "id": "DhFVYD3b3vvr"
      },
      "execution_count": 5,
      "outputs": []
    },
    {
      "cell_type": "code",
      "source": [
        "s = string1 + string2"
      ],
      "metadata": {
        "id": "F2t8_29P4BAJ"
      },
      "execution_count": 6,
      "outputs": []
    },
    {
      "cell_type": "code",
      "source": [
        "s"
      ],
      "metadata": {
        "colab": {
          "base_uri": "https://localhost:8080/",
          "height": 35
        },
        "id": "msgqZXvL4GHU",
        "outputId": "3e2d438b-c8d9-4c13-f69b-7a76c7ecdfca"
      },
      "execution_count": 7,
      "outputs": [
        {
          "output_type": "execute_result",
          "data": {
            "text/plain": [
              "'Sunnyraj'"
            ],
            "application/vnd.google.colaboratory.intrinsic+json": {
              "type": "string"
            }
          },
          "metadata": {},
          "execution_count": 7
        }
      ]
    },
    {
      "cell_type": "markdown",
      "source": [
        "5. What will be the output of the following code in Python?\n",
        "\n",
        "name = \"John\"\n",
        "\n",
        "age = 25\n",
        "\n",
        "print(\"My name is\", name, \"and I am\", age, \"years old.\")"
      ],
      "metadata": {
        "id": "HaGK-kU-4Lia"
      }
    },
    {
      "cell_type": "code",
      "source": [
        "name = \"John\"\n",
        "\n",
        "age = 25\n",
        "\n",
        "print(\"My name is\", name, \"and I am\", age, \"years old.\")"
      ],
      "metadata": {
        "colab": {
          "base_uri": "https://localhost:8080/"
        },
        "id": "lbjd6UwJ4Gmo",
        "outputId": "758a9b31-60b6-48ad-a253-0a452ac1343e"
      },
      "execution_count": 8,
      "outputs": [
        {
          "output_type": "stream",
          "name": "stdout",
          "text": [
            "My name is John and I am 25 years old.\n"
          ]
        }
      ]
    },
    {
      "cell_type": "markdown",
      "source": [
        "6. What will the following code snippet output?\n",
        "\n",
        "word = \"Python\"\n",
        "\n",
        "print(word[2])"
      ],
      "metadata": {
        "id": "DA_Z5Gsq4eoG"
      }
    },
    {
      "cell_type": "code",
      "source": [
        "word = \"Python\"\n",
        "\n",
        "print(word[2])"
      ],
      "metadata": {
        "colab": {
          "base_uri": "https://localhost:8080/"
        },
        "id": "YP0LOM4G4Tl3",
        "outputId": "dc9feb6f-cc02-46ba-f2c0-250500263b98"
      },
      "execution_count": 9,
      "outputs": [
        {
          "output_type": "stream",
          "name": "stdout",
          "text": [
            "t\n"
          ]
        }
      ]
    },
    {
      "cell_type": "markdown",
      "source": [
        "8.What does the `str.upper()` method do in Python?"
      ],
      "metadata": {
        "id": "1iyRT4ID5YZr"
      }
    },
    {
      "cell_type": "code",
      "source": [
        "word.upper()"
      ],
      "metadata": {
        "colab": {
          "base_uri": "https://localhost:8080/",
          "height": 35
        },
        "id": "kbH6sycQ4xFU",
        "outputId": "e2d135cc-1c43-4e2e-90ca-f6a33be20bf8"
      },
      "execution_count": 12,
      "outputs": [
        {
          "output_type": "execute_result",
          "data": {
            "text/plain": [
              "'PYTHON'"
            ],
            "application/vnd.google.colaboratory.intrinsic+json": {
              "type": "string"
            }
          },
          "metadata": {},
          "execution_count": 12
        }
      ]
    },
    {
      "cell_type": "markdown",
      "source": [
        "9.Which of the following is the correct way to check if a string contains a specific substring?"
      ],
      "metadata": {
        "id": "zu5rC_IR5qNp"
      }
    },
    {
      "cell_type": "code",
      "source": [
        "string1 = 'this is my name'"
      ],
      "metadata": {
        "id": "5z4HzQLS5IdS"
      },
      "execution_count": 13,
      "outputs": []
    },
    {
      "cell_type": "code",
      "source": [
        "string1.index()"
      ],
      "metadata": {
        "colab": {
          "base_uri": "https://localhost:8080/",
          "height": 179
        },
        "id": "tDMyRZQi6PVm",
        "outputId": "7f43a4a8-8839-4a41-81de-93c567de0b72"
      },
      "execution_count": 16,
      "outputs": [
        {
          "output_type": "error",
          "ename": "TypeError",
          "evalue": "ignored",
          "traceback": [
            "\u001b[0;31m---------------------------------------------------------------------------\u001b[0m",
            "\u001b[0;31mTypeError\u001b[0m                                 Traceback (most recent call last)",
            "\u001b[0;32m<ipython-input-16-2a34a2502fc9>\u001b[0m in \u001b[0;36m<cell line: 1>\u001b[0;34m()\u001b[0m\n\u001b[0;32m----> 1\u001b[0;31m \u001b[0mstring1\u001b[0m\u001b[0;34m.\u001b[0m\u001b[0mindex\u001b[0m\u001b[0;34m(\u001b[0m\u001b[0mstring1\u001b[0m\u001b[0;34m[\u001b[0m\u001b[0;34m'this'\u001b[0m\u001b[0;34m:\u001b[0m \u001b[0;34m'my'\u001b[0m\u001b[0;34m]\u001b[0m\u001b[0;34m)\u001b[0m\u001b[0;34m\u001b[0m\u001b[0;34m\u001b[0m\u001b[0m\n\u001b[0m",
            "\u001b[0;31mTypeError\u001b[0m: slice indices must be integers or None or have an __index__ method"
          ]
        }
      ]
    },
    {
      "cell_type": "markdown",
      "source": [
        "10. What will be the output of the following code?\n",
        "\n",
        "text = \"Hello, World!\"\n",
        "\n",
        "print(text[7:12])"
      ],
      "metadata": {
        "id": "L1p7oB-87Sqa"
      }
    },
    {
      "cell_type": "code",
      "source": [
        "text = \"Hello, World!\"\n",
        "\n",
        "print(text[7:12])"
      ],
      "metadata": {
        "colab": {
          "base_uri": "https://localhost:8080/"
        },
        "id": "ylguc8KW6YIw",
        "outputId": "8924d348-3b30-4f0f-e08a-856712782ef7"
      },
      "execution_count": 18,
      "outputs": [
        {
          "output_type": "stream",
          "name": "stdout",
          "text": [
            "World\n"
          ]
        }
      ]
    },
    {
      "cell_type": "markdown",
      "source": [
        "11. What will be the output of the following code?\n",
        "\n",
        "phrase = \"Python is fun!\"\n",
        "\n",
        "new_phrase = phrase.replace(\"fun\", \"awesome\")\n",
        "\n",
        "print(new_phrase)"
      ],
      "metadata": {
        "id": "i1axsSMn7qy6"
      }
    },
    {
      "cell_type": "code",
      "source": [
        "phrase = \"Python is fun!\"\n",
        "\n",
        "new_phrase = phrase.replace(\"fun\", \"awesome\")\n",
        "\n",
        "print(new_phrase)"
      ],
      "metadata": {
        "colab": {
          "base_uri": "https://localhost:8080/"
        },
        "id": "b0hzbYYf7uI-",
        "outputId": "b9334acb-d5d7-4265-c860-a6520d589c5b"
      },
      "execution_count": 19,
      "outputs": [
        {
          "output_type": "stream",
          "name": "stdout",
          "text": [
            "Python is awesome!\n"
          ]
        }
      ]
    },
    {
      "cell_type": "markdown",
      "source": [
        "13. What will be the output of the following code?\n",
        "\n",
        "string1 = \"Python\"\n",
        "\n",
        "string2 = \"Programming\"\n",
        "\n",
        "result = string1 + \" \" + string2\n",
        "\n",
        "print(result)"
      ],
      "metadata": {
        "id": "xG7_2QAN8Aej"
      }
    },
    {
      "cell_type": "code",
      "source": [
        "string1 = \"Python\"\n",
        "\n",
        "string2 = \"Programming\"\n",
        "\n",
        "result = string1 + \" \" + string2\n",
        "\n",
        "print(result)"
      ],
      "metadata": {
        "colab": {
          "base_uri": "https://localhost:8080/"
        },
        "id": "kRk688Is8Doh",
        "outputId": "22636dcd-45ad-4194-f413-06705b787a59"
      },
      "execution_count": 20,
      "outputs": [
        {
          "output_type": "stream",
          "name": "stdout",
          "text": [
            "Python Programming\n"
          ]
        }
      ]
    },
    {
      "cell_type": "code",
      "source": [],
      "metadata": {
        "id": "pRc8vWSn8F1s"
      },
      "execution_count": null,
      "outputs": []
    },
    {
      "cell_type": "markdown",
      "source": [
        "14. Which of the following is the correct way to declare a multi-line string in Python?"
      ],
      "metadata": {
        "id": "HYEobSPc8N_w"
      }
    },
    {
      "cell_type": "code",
      "source": [
        "string = '''This is a multi-line string.'''"
      ],
      "metadata": {
        "id": "a-Qd2z2I8QA-"
      },
      "execution_count": 24,
      "outputs": []
    },
    {
      "cell_type": "code",
      "source": [
        "string"
      ],
      "metadata": {
        "colab": {
          "base_uri": "https://localhost:8080/",
          "height": 35
        },
        "id": "Gbzydkt-8SAw",
        "outputId": "de9e429e-27f9-4098-fe58-c59888f456e8"
      },
      "execution_count": 25,
      "outputs": [
        {
          "output_type": "execute_result",
          "data": {
            "text/plain": [
              "'This is a multi-line string.'"
            ],
            "application/vnd.google.colaboratory.intrinsic+json": {
              "type": "string"
            }
          },
          "metadata": {},
          "execution_count": 25
        }
      ]
    },
    {
      "cell_type": "code",
      "source": [],
      "metadata": {
        "id": "oDe-Elwx8V8W"
      },
      "execution_count": null,
      "outputs": []
    },
    {
      "cell_type": "markdown",
      "source": [
        "15. What will be the output of the following code?\n",
        "\n",
        "word = \"Python\"\n",
        "\n",
        "repeated_word = word * 3\n",
        "\n",
        "print(repeated_word)"
      ],
      "metadata": {
        "id": "Mo3s-EEM8qLv"
      }
    },
    {
      "cell_type": "code",
      "source": [
        "word = \"Python\"\n",
        "\n",
        "repeated_word = word * 3\n",
        "\n",
        "print(repeated_word)"
      ],
      "metadata": {
        "colab": {
          "base_uri": "https://localhost:8080/"
        },
        "id": "Jxee6JJd8uKN",
        "outputId": "fe5c85ec-401c-45cb-9119-8a02b4d639f8"
      },
      "execution_count": 26,
      "outputs": [
        {
          "output_type": "stream",
          "name": "stdout",
          "text": [
            "PythonPythonPython\n"
          ]
        }
      ]
    },
    {
      "cell_type": "code",
      "source": [],
      "metadata": {
        "id": "Zxsab0TJ8vt_"
      },
      "execution_count": null,
      "outputs": []
    },
    {
      "cell_type": "markdown",
      "source": [
        "16. Which of the following is a valid way to convert an integer to a string in Python?"
      ],
      "metadata": {
        "id": "B4VrJGB482_J"
      }
    },
    {
      "cell_type": "code",
      "source": [
        "number = 12345\n",
        "s = str(number)"
      ],
      "metadata": {
        "id": "pFh5bofM864w"
      },
      "execution_count": 29,
      "outputs": []
    },
    {
      "cell_type": "code",
      "source": [
        "s"
      ],
      "metadata": {
        "colab": {
          "base_uri": "https://localhost:8080/",
          "height": 35
        },
        "id": "MKrgppm99Aje",
        "outputId": "f03b6a3e-b9f8-4105-f504-070416655b6f"
      },
      "execution_count": 30,
      "outputs": [
        {
          "output_type": "execute_result",
          "data": {
            "text/plain": [
              "'12345'"
            ],
            "application/vnd.google.colaboratory.intrinsic+json": {
              "type": "string"
            }
          },
          "metadata": {},
          "execution_count": 30
        }
      ]
    },
    {
      "cell_type": "code",
      "source": [
        "type(s)"
      ],
      "metadata": {
        "colab": {
          "base_uri": "https://localhost:8080/"
        },
        "id": "uOHZCKCK9EMp",
        "outputId": "acfb2b63-89fd-4cc7-a24b-caabb8bacf88"
      },
      "execution_count": 31,
      "outputs": [
        {
          "output_type": "execute_result",
          "data": {
            "text/plain": [
              "str"
            ]
          },
          "metadata": {},
          "execution_count": 31
        }
      ]
    },
    {
      "cell_type": "code",
      "source": [],
      "metadata": {
        "id": "nB7aDqF69K_e"
      },
      "execution_count": null,
      "outputs": []
    },
    {
      "cell_type": "markdown",
      "source": [
        "17. What will be the output of the following code?\n",
        "\n",
        "message = \"Hello, World!\"\n",
        "\n",
        "print(message[-6:-1])"
      ],
      "metadata": {
        "id": "tW2UthWH9PaQ"
      }
    },
    {
      "cell_type": "code",
      "source": [
        "message = \"Hello, World!\"\n",
        "\n",
        "print(message[-6:-1])"
      ],
      "metadata": {
        "colab": {
          "base_uri": "https://localhost:8080/"
        },
        "id": "MnEcxG4a9SQu",
        "outputId": "230f2aa1-300b-40c3-9145-107f6445977a"
      },
      "execution_count": 32,
      "outputs": [
        {
          "output_type": "stream",
          "name": "stdout",
          "text": [
            "World\n"
          ]
        }
      ]
    },
    {
      "cell_type": "code",
      "source": [],
      "metadata": {
        "id": "NASNOalw9TsF"
      },
      "execution_count": null,
      "outputs": []
    },
    {
      "cell_type": "markdown",
      "source": [
        "18. What will be the output of the following code?\n",
        "\n",
        "word = \"python\"\n",
        "\n",
        "capitalized_word = word.capitalize()\n",
        "\n",
        "print(capitalized_word)"
      ],
      "metadata": {
        "id": "EqmDnAEp9Y5r"
      }
    },
    {
      "cell_type": "code",
      "source": [
        "word = \"python\"\n",
        "\n",
        "capitalized_word = word.capitalize()\n",
        "\n",
        "print(capitalized_word)"
      ],
      "metadata": {
        "colab": {
          "base_uri": "https://localhost:8080/"
        },
        "id": "0R3_mNGS9c9X",
        "outputId": "22bfbf58-cf8f-42c5-b2a7-6952e05a4d56"
      },
      "execution_count": 33,
      "outputs": [
        {
          "output_type": "stream",
          "name": "stdout",
          "text": [
            "Python\n"
          ]
        }
      ]
    },
    {
      "cell_type": "code",
      "source": [],
      "metadata": {
        "id": "TFnpn8v89ehG"
      },
      "execution_count": null,
      "outputs": []
    },
    {
      "cell_type": "markdown",
      "source": [
        "19. What will be the output of the following code?\n",
        "\n",
        "text = \"   Hello, World!   \"\n",
        "\n",
        "trimmed_text = text.strip()\n",
        "\n",
        "print(trimmed_text)"
      ],
      "metadata": {
        "id": "1zDSt_bU9lsL"
      }
    },
    {
      "cell_type": "code",
      "source": [
        "text = \" Hello, World! \"\n",
        "\n",
        "trimmed_text = text.strip()\n",
        "\n",
        "print(trimmed_text)"
      ],
      "metadata": {
        "colab": {
          "base_uri": "https://localhost:8080/"
        },
        "id": "YOUabp7Q9o-U",
        "outputId": "d547bf86-de64-4e50-e1b3-e8df9e14b695"
      },
      "execution_count": 34,
      "outputs": [
        {
          "output_type": "stream",
          "name": "stdout",
          "text": [
            "Hello, World!\n"
          ]
        }
      ]
    },
    {
      "cell_type": "code",
      "source": [],
      "metadata": {
        "id": "_qVwX7qo9rSV"
      },
      "execution_count": null,
      "outputs": []
    },
    {
      "cell_type": "markdown",
      "source": [
        "20. Which of the following methods can be used to convert a string to lowercase in Python?"
      ],
      "metadata": {
        "id": "BlMGRiNZ9_yK"
      }
    },
    {
      "cell_type": "code",
      "source": [
        "string1 = 'THIS IS A STRING'"
      ],
      "metadata": {
        "id": "pHh5o_ON-BJU"
      },
      "execution_count": 37,
      "outputs": []
    },
    {
      "cell_type": "code",
      "source": [
        "string1.lower()"
      ],
      "metadata": {
        "colab": {
          "base_uri": "https://localhost:8080/",
          "height": 35
        },
        "id": "xrqsGGCb-ErH",
        "outputId": "5b81138f-0cfe-4a16-e1e2-2082a33a418c"
      },
      "execution_count": 38,
      "outputs": [
        {
          "output_type": "execute_result",
          "data": {
            "text/plain": [
              "'this is a string'"
            ],
            "application/vnd.google.colaboratory.intrinsic+json": {
              "type": "string"
            }
          },
          "metadata": {},
          "execution_count": 38
        }
      ]
    },
    {
      "cell_type": "code",
      "source": [],
      "metadata": {
        "id": "uO65-cOZ-IRr"
      },
      "execution_count": null,
      "outputs": []
    }
  ]
}